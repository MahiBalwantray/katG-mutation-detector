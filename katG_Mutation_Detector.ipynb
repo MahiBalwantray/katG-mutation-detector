{
 "cells": [
  {
   "cell_type": "code",
   "execution_count": 2,
   "id": "e88cc850-3915-46bf-82fe-f6816681e523",
   "metadata": {},
   "outputs": [
    {
     "name": "stdout",
     "output_type": "stream",
     "text": [
      "Requirement already satisfied: biopython in c:\\users\\mahi d balwantray\\anaconda3\\lib\\site-packages (1.85)\n",
      "Requirement already satisfied: numpy in c:\\users\\mahi d balwantray\\anaconda3\\lib\\site-packages (from biopython) (1.26.4)\n",
      "Note: you may need to restart the kernel to use updated packages.\n"
     ]
    }
   ],
   "source": [
    "pip install biopython"
   ]
  },
  {
   "cell_type": "code",
   "execution_count": 2,
   "id": "325dc037-ccc3-4bf3-bd9e-c5830ad8fc16",
   "metadata": {},
   "outputs": [],
   "source": [
    "from Bio import SeqIO\n",
    "from Bio.Seq import Seq\n",
    "input_file = \"katG.fasta.txt\"\n",
    "record = SeqIO.read(input_file, \"fasta\")\n",
    "original_seq = str(record.seq)"
   ]
  },
  {
   "cell_type": "code",
   "execution_count": 4,
   "id": "83fdd73a-748b-46f7-8eb5-492a425f0b8f",
   "metadata": {},
   "outputs": [],
   "source": [
    "position = 499\n",
    "mutated_seq = list(original_seq)\n",
    "original_base = mutated_seq[position]\n",
    "mutated_base = \"A\" if original_base != \"A\" else \"T\"\n",
    "mutated_seq[position] = mutated_base "
   ]
  },
  {
   "cell_type": "code",
   "execution_count": 8,
   "id": "10b7f54b-fab3-4b00-a51a-c786ca6c58af",
   "metadata": {},
   "outputs": [
    {
     "name": "stdout",
     "output_type": "stream",
     "text": [
      "Mutant file created with SNP at position 500: T > A\n"
     ]
    }
   ],
   "source": [
    "mutant_record = record\n",
    "mutant_record.seq = Seq(\"\".join(mutated_seq))\n",
    "mutant_record.id = \"katG_mutant\"\n",
    "mutant_record.description = f\"Simulated SNP at position 500: {original_base} > {mutated_base}\"\n",
    "with open(\"mutant_katG.fasta\", \"w\") as f:\n",
    "    SeqIO.write(mutant_record, f, \"fasta\")\n",
    "print(f\"Mutant file created with SNP at position 500: {original_base} > {mutated_base}\")"
   ]
  },
  {
   "cell_type": "code",
   "execution_count": 12,
   "id": "08402ae9-0548-4b74-bcce-b38052ea2dac",
   "metadata": {},
   "outputs": [
    {
     "name": "stdout",
     "output_type": "stream",
     "text": [
      "Detected 1 mutation(s). Report saved.\n"
     ]
    }
   ],
   "source": [
    "mutations = []\n",
    "for i in range(len(original_seq)):\n",
    "    if original_seq[i] != mutated_seq[i]:\n",
    "        mutations.append((i+1, original_seq[i], mutated_seq[i]))\n",
    "with open(\"mutations_report.txt\", \"w\") as report:\n",
    "    if mutations:\n",
    "        report.write(\"Position\\tOriginal\\tMutant\\n\")\n",
    "        for pos, wild, mut in mutations:\n",
    "            report.write(f\"{pos}\\t{wild}\\t{mut}\\n\")\n",
    "            print(f\"Detected {len(mutations)} mutation(s). Report saved.\")\n",
    "    else:\n",
    "            report.write(\"No mutations detected.\\n\")\n",
    "            print(\"No mutations found.\")"
   ]
  },
  {
   "cell_type": "code",
   "execution_count": null,
   "id": "2d615e87-273d-4db1-b4d9-98b17ef218c1",
   "metadata": {},
   "outputs": [],
   "source": []
  }
 ],
 "metadata": {
  "kernelspec": {
   "display_name": "Python [conda env:base] *",
   "language": "python",
   "name": "conda-base-py"
  },
  "language_info": {
   "codemirror_mode": {
    "name": "ipython",
    "version": 3
   },
   "file_extension": ".py",
   "mimetype": "text/x-python",
   "name": "python",
   "nbconvert_exporter": "python",
   "pygments_lexer": "ipython3",
   "version": "3.12.7"
  }
 },
 "nbformat": 4,
 "nbformat_minor": 5
}
