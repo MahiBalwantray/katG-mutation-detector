{
 "cells": [
  {
   "cell_type": "code",
   "execution_count": 2,
   "id": "6f9bce1a-4a0d-4c6d-8f71-ff2ae4db4834",
   "metadata": {},
   "outputs": [
    {
     "name": "stdout",
     "output_type": "stream",
     "text": [
      "Requirement already satisfied: biopython in c:\\users\\mahi d balwantray\\anaconda3\\lib\\site-packages (1.85)Note: you may need to restart the kernel to use updated packages.\n",
      "\n",
      "Requirement already satisfied: numpy in c:\\users\\mahi d balwantray\\anaconda3\\lib\\site-packages (from biopython) (1.26.4)\n"
     ]
    }
   ],
   "source": [
    "pip install biopython"
   ]
  },
  {
   "cell_type": "code",
   "execution_count": 6,
   "id": "55216a6f-c96f-4409-a5ac-aa719f08f7e4",
   "metadata": {},
   "outputs": [
    {
     "name": "stdout",
     "output_type": "stream",
     "text": [
      "Gene ID NC_000962.3:c2156111-2153889\n",
      "Description: NC_000962.3:c2156111-2153889 Mycobacterium tuberculosis H37Rv, complete genome\n",
      "Sequence Length: 2223\n",
      "First 60 bases: GTGCCCGAGCAACACCCACCCATTACAGAAACCACCACCGGAGCCGCTAGCAACGGCTGT\n"
     ]
    }
   ],
   "source": [
    "from Bio import SeqIO\n",
    "record = SeqIO.read (\"katG.fasta.txt\", \"fasta\")\n",
    "print(\"Gene ID\", record.id)\n",
    "print(\"Description:\", record.description)\n",
    "print(\"Sequence Length:\", len(record.seq))\n",
    "print(\"First 60 bases:\", record.seq[:60])"
   ]
  },
  {
   "cell_type": "code",
   "execution_count": 8,
   "id": "02d9c367-1215-4837-8f63-16a3970137a8",
   "metadata": {},
   "outputs": [
    {
     "name": "stdout",
     "output_type": "stream",
     "text": [
      "GC Content: 64.60%\n",
      "First 20 amino acids of translated protein: VPEQHPPITETTTGAASNGC\n"
     ]
    }
   ],
   "source": [
    "gc = 100 * float(record.seq.count(\"G\") + record.seq.count(\"C\")) / len(record.seq)\n",
    "print(\"GC Content: {:.2f}%\".format(gc))\n",
    "protein = record.seq.translate()\n",
    "print(\"First 20 amino acids of translated protein:\", protein[:20])"
   ]
  },
  {
   "cell_type": "code",
   "execution_count": null,
   "id": "b8d709c1-f8e3-41f2-9f3e-49e38896e13b",
   "metadata": {},
   "outputs": [],
   "source": []
  }
 ],
 "metadata": {
  "kernelspec": {
   "display_name": "Python [conda env:base] *",
   "language": "python",
   "name": "conda-base-py"
  },
  "language_info": {
   "codemirror_mode": {
    "name": "ipython",
    "version": 3
   },
   "file_extension": ".py",
   "mimetype": "text/x-python",
   "name": "python",
   "nbconvert_exporter": "python",
   "pygments_lexer": "ipython3",
   "version": "3.12.7"
  }
 },
 "nbformat": 4,
 "nbformat_minor": 5
}
